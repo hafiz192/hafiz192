{
 "cells": [
  {
   "cell_type": "code",
   "execution_count": 1,
   "id": "29d221ae",
   "metadata": {},
   "outputs": [],
   "source": [
    "# abstraction, encapsulation, inheritance, polymorphism"
   ]
  },
  {
   "cell_type": "code",
   "execution_count": 2,
   "id": "b2738bef",
   "metadata": {},
   "outputs": [],
   "source": [
    "from abc import ABC"
   ]
  },
  {
   "cell_type": "code",
   "execution_count": 30,
   "id": "57624251",
   "metadata": {},
   "outputs": [],
   "source": [
    "# interface class\n",
    "class person_info(ABC):\n",
    "    \n",
    "    def set_first_name(self, name):\n",
    "        pass\n",
    "    \n",
    "    def get_first_name(self):\n",
    "        pass\n",
    "    \n",
    "    def set_last_name(self, name):\n",
    "        pass\n",
    "    \n",
    "    def get_last_name(self):\n",
    "        pass\n",
    "    \n",
    "    def set_address(self, address):\n",
    "        pass\n",
    "    \n",
    "    def get_address(self):\n",
    "        pass\n",
    "    "
   ]
  },
  {
   "cell_type": "code",
   "execution_count": 40,
   "id": "93cc9de3",
   "metadata": {},
   "outputs": [],
   "source": [
    "class students(person_info):\n",
    "    # public, private(__), protected(_)\n",
    "    first_name = \"\"\n",
    "    last_name = \"\"\n",
    "    address = \"\"\n",
    "    \n",
    "    # constructor\n",
    "    def __init__(self, first_name, last_name, address):\n",
    "        self.first_name = first_name\n",
    "        self.last_name = last_name\n",
    "        self.address = address\n",
    "        \n",
    "    def set_first_name(self, name):\n",
    "        self.first_name = name\n",
    "    \n",
    "    def get_first_name(self):\n",
    "        return self.first_name\n",
    "    \n",
    "    def last_name(self, name):\n",
    "        pass\n",
    "    \n",
    "    def get_last_name(self):\n",
    "        pass\n",
    "    \n",
    "    def set_address(self, address):\n",
    "        self.address = address\n",
    "    \n",
    "    def get_address(self):\n",
    "        return self.address\n",
    "    "
   ]
  },
  {
   "cell_type": "code",
   "execution_count": 46,
   "id": "f8b2dc23",
   "metadata": {},
   "outputs": [],
   "source": [
    "student = students(\"Abu\", \"Saleh\", \"Gazipur\")"
   ]
  },
  {
   "cell_type": "code",
   "execution_count": 60,
   "id": "379049cd",
   "metadata": {},
   "outputs": [],
   "source": [
    "student.first_name = \"Jahidul Hasan\""
   ]
  },
  {
   "cell_type": "code",
   "execution_count": 61,
   "id": "12625a97",
   "metadata": {},
   "outputs": [
    {
     "name": "stdout",
     "output_type": "stream",
     "text": [
      "Jahidul Hasan\n"
     ]
    }
   ],
   "source": [
    "print(student.first_name)"
   ]
  },
  {
   "cell_type": "code",
   "execution_count": 82,
   "id": "5f05d7ec",
   "metadata": {},
   "outputs": [],
   "source": [
    "class User(students):\n",
    "    \n",
    "    def __init__(self, first_name, last_name, address, user, password):\n",
    "        super().__init__(first_name, last_name, address)\n",
    "        self.__user = user\n",
    "        self.__password = password\n",
    "    \n",
    "    \n",
    "    def login(self, user, password):\n",
    "        \n",
    "        if self.__user == user:\n",
    "            if self.__password == password:\n",
    "                print(\"Login Successfully\")\n",
    "            else:\n",
    "                print(\"password doesnot match\")\n",
    "        else:\n",
    "            print(\"user does not match\")"
   ]
  },
  {
   "cell_type": "code",
   "execution_count": 83,
   "id": "36d33afe",
   "metadata": {},
   "outputs": [],
   "source": [
    "user = User(\"Abu\", \"Saleh\", \"Gazipur\", \"admin\", \"12345\")"
   ]
  },
  {
   "cell_type": "code",
   "execution_count": 87,
   "id": "89937fc2",
   "metadata": {},
   "outputs": [
    {
     "name": "stdout",
     "output_type": "stream",
     "text": [
      "user does not match\n"
     ]
    }
   ],
   "source": [
    "user.login(\"adm\", \"1234\")"
   ]
  },
  {
   "cell_type": "code",
   "execution_count": 85,
   "id": "60752abd",
   "metadata": {},
   "outputs": [
    {
     "ename": "AttributeError",
     "evalue": "'User' object has no attribute 'password'",
     "output_type": "error",
     "traceback": [
      "\u001b[1;31m---------------------------------------------------------------------------\u001b[0m",
      "\u001b[1;31mAttributeError\u001b[0m                            Traceback (most recent call last)",
      "\u001b[1;32m<ipython-input-85-c046cf4395b7>\u001b[0m in \u001b[0;36m<module>\u001b[1;34m\u001b[0m\n\u001b[1;32m----> 1\u001b[1;33m \u001b[0mprint\u001b[0m\u001b[1;33m(\u001b[0m\u001b[0muser\u001b[0m\u001b[1;33m.\u001b[0m\u001b[0mpassword\u001b[0m\u001b[1;33m)\u001b[0m\u001b[1;33m\u001b[0m\u001b[1;33m\u001b[0m\u001b[0m\n\u001b[0m",
      "\u001b[1;31mAttributeError\u001b[0m: 'User' object has no attribute 'password'"
     ]
    }
   ],
   "source": [
    "print(user.password)"
   ]
  },
  {
   "cell_type": "code",
   "execution_count": null,
   "id": "21b67c40",
   "metadata": {},
   "outputs": [],
   "source": []
  },
  {
   "cell_type": "code",
   "execution_count": null,
   "id": "f29bf208",
   "metadata": {},
   "outputs": [],
   "source": []
  },
  {
   "cell_type": "code",
   "execution_count": null,
   "id": "5f02583f",
   "metadata": {},
   "outputs": [],
   "source": []
  },
  {
   "cell_type": "code",
   "execution_count": null,
   "id": "c69f1c84",
   "metadata": {},
   "outputs": [],
   "source": []
  },
  {
   "cell_type": "code",
   "execution_count": null,
   "id": "275a6484",
   "metadata": {},
   "outputs": [],
   "source": []
  },
  {
   "cell_type": "code",
   "execution_count": null,
   "id": "9ab64c38",
   "metadata": {},
   "outputs": [],
   "source": []
  },
  {
   "cell_type": "code",
   "execution_count": 47,
   "id": "aa63f7cb",
   "metadata": {},
   "outputs": [],
   "source": [
    "class Guardian(students):\n",
    "    pass"
   ]
  },
  {
   "cell_type": "code",
   "execution_count": 48,
   "id": "a4954053",
   "metadata": {},
   "outputs": [],
   "source": [
    "guardian = Guardian(\"Tamim\", \"Iqbal\", \"Chittagong\")"
   ]
  },
  {
   "cell_type": "code",
   "execution_count": 49,
   "id": "03f7b535",
   "metadata": {},
   "outputs": [],
   "source": [
    "guardian.set_first_name(\"Jahangir\")"
   ]
  },
  {
   "cell_type": "code",
   "execution_count": 50,
   "id": "988ed855",
   "metadata": {},
   "outputs": [
    {
     "name": "stdout",
     "output_type": "stream",
     "text": [
      "Jahangir\n"
     ]
    }
   ],
   "source": [
    "print(guardian.get_first_name())"
   ]
  },
  {
   "cell_type": "code",
   "execution_count": 51,
   "id": "792e3707",
   "metadata": {},
   "outputs": [],
   "source": [
    "guardian.set_address(\"Dhaka\")"
   ]
  },
  {
   "cell_type": "code",
   "execution_count": 52,
   "id": "b82d157f",
   "metadata": {},
   "outputs": [
    {
     "name": "stdout",
     "output_type": "stream",
     "text": [
      "Dhaka\n"
     ]
    }
   ],
   "source": [
    "print(guardian.get_address())"
   ]
  },
  {
   "cell_type": "code",
   "execution_count": 57,
   "id": "bc27ed59",
   "metadata": {},
   "outputs": [],
   "source": [
    "class A:\n",
    "    def __init__(self, val):\n",
    "        self.val=val\n",
    "    \n",
    "    def get_value(self):\n",
    "        return self.val\n",
    "\n",
    "class B:\n",
    "    def __init__(self, val):\n",
    "        self.val=val\n",
    "    \n",
    "    def get_value(self):\n",
    "        return self.val\n",
    "    \n",
    "class C(A, B):\n",
    "    pass"
   ]
  },
  {
   "cell_type": "code",
   "execution_count": 58,
   "id": "cec8ccae",
   "metadata": {},
   "outputs": [],
   "source": [
    "c = C(\"Something\")"
   ]
  },
  {
   "cell_type": "code",
   "execution_count": 59,
   "id": "4a4511de",
   "metadata": {},
   "outputs": [
    {
     "data": {
      "text/plain": [
       "'Something'"
      ]
     },
     "execution_count": 59,
     "metadata": {},
     "output_type": "execute_result"
    }
   ],
   "source": [
    "c.get_value()"
   ]
  },
  {
   "cell_type": "code",
   "execution_count": null,
   "id": "571649bd",
   "metadata": {},
   "outputs": [],
   "source": [
    "Banking System-> Customer Gen Info, Customer, UserReg, Account info(balance, deposit, widthdraw), "
   ]
  }
 ],
 "metadata": {
  "kernelspec": {
   "display_name": "Python 3",
   "language": "python",
   "name": "python3"
  },
  "language_info": {
   "codemirror_mode": {
    "name": "ipython",
    "version": 3
   },
   "file_extension": ".py",
   "mimetype": "text/x-python",
   "name": "python",
   "nbconvert_exporter": "python",
   "pygments_lexer": "ipython3",
   "version": "3.8.3"
  }
 },
 "nbformat": 4,
 "nbformat_minor": 5
}
